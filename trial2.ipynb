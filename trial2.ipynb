{
  "nbformat": 4,
  "nbformat_minor": 0,
  "metadata": {
    "colab": {
      "name": "first trial.ipynb",
      "provenance": [],
      "authorship_tag": "ABX9TyOU4CJJUVi81qk5YtE7H+Yt",
      "include_colab_link": true
    },
    "kernelspec": {
      "name": "python3",
      "display_name": "Python 3"
    },
    "language_info": {
      "name": "python"
    }
  },
  "cells": [
    {
      "cell_type": "markdown",
      "metadata": {
        "id": "view-in-github",
        "colab_type": "text"
      },
      "source": [
        "<a href=\"https://colab.research.google.com/github/zubinkm/Fedbatch/blob/main/trial2.ipynb\" target=\"_parent\"><img src=\"https://colab.research.google.com/assets/colab-badge.svg\" alt=\"Open In Colab\"/></a>"
      ]
    },
    {
      "cell_type": "code",
      "source": [
        "import numpy as np\n",
        "from ._batch_bioreactor import BatchBioreactor\n",
        "# failed to import batch bioreactor\n",
        "from scipy.integrate import odeint\n",
        "from thermosteam.reaction import Reaction, ParallelReaction\n",
        "import matplotlib"
      ],
      "metadata": {
        "id": "O283n-k85OXU"
      },
      "execution_count": null,
      "outputs": []
    },
    {
      "cell_type": "code",
      "source": [
        "__all__ = ('Fermentation',)\n",
        "\n",
        "class Fermentation(BatchBioreactor):\n",
        "    line = 'Fermentation'\n",
        "\n",
        "    # trying to incorporate my model here\n",
        "    # properties are assumed without noting the stoichiometry, especially for yield calculations\n",
        "\n",
        "    mu_max = 0.2 # maximum sp growth rate\n",
        "    ks = 2 # saturation constant\n",
        "    kd = 0.0008 #cell death ratio\n",
        "    m = 0.003 # maintanence coefficient\n",
        "    sf = 150 # fed batch substrate\n",
        "\n",
        "    # yields/ proportion of consumption\n",
        "\n",
        "    yps = 0.1\n",
        "    yxs = 0.5\n",
        "    ypx = 0.2\n",
        "    yo2 = 0.3 \n",
        "\n",
        "    # properties to calculate oxygen dependency of the fed batch fermentation\n",
        "\n",
        "    p = 101325\n",
        "    r = 8.314\n",
        "    temp = 298.15\n",
        "\n",
        "    ko2 = 0.1 # oxygen half velocity constant\n",
        "    kla = 0.005 # mass transfer coefficient \n",
        "    h2 = 33 # gas-liquid partition coefficient of O2\n",
        "    mw = 32 # molecular weight of O2\n",
        "\n",
        "    O2g = ((p * 0.205 * mw) / (r * temp))"
      ],
      "metadata": {
        "id": "y57EOINOrYOq"
      },
      "execution_count": null,
      "outputs": []
    },
    {
      "cell_type": "code",
      "source": [
        "    def __init__(self, ID='', ins=None, outs=(), thermo=None, *, \n",
        "                 tau,  N=None, V=None, T=305.15, P=101325., Nmin=2, Nmax=36,\n",
        "                 efficiency=0.9, iskinetic=False):\n",
        "      \n",
        "        # changes I have to impart here, I consider Number of reactors equals 1\n",
        "        # can I manipulate the batchbioreactor code?\n",
        "\n",
        "        BatchBioreactor.__init__(self, ID, ins, outs, thermo,\n",
        "                                 tau=tau, N=N, V=V, T=T, P=P, Nmin=Nmin, Nmax=Nmax)\n",
        "        \n",
        "        self._load_components()\n",
        "        self.iskinetic = iskinetic\n",
        "        chemicals = self.chemicals\n",
        "        self.hydrolysis_reaction = Reaction('Sucrose + Water -> 2Glucose', 'Sucrose', 1.00, chemicals)\n",
        "\n",
        "        # in my case i need a nitrogen source to equate the yohimbine production. Ammonium salts?\n",
        "        # balanced equation with stoichiometry ....\n",
        "        # if yohimbine HCl is formed, maybe I can use NH4Cl\n",
        "        # oxygen limitations are under consideration so I have to include that too\n",
        "\n",
        "        self.fermentation_reaction = Reaction('Glucose + O2 + NH3 -> Yohimbine + 2CO2',  'Glucose', efficiency, chemicals)\n",
        "        # reaction is neither accurate nor balanced. need to find suitable N2 source\n",
        "\n",
        "        self.cell_growth_reaction = cell_growth = Reaction('Glucose -> Yeast', 'Glucose', 0.70, chemicals, basis='wt')\n",
        "        cell_growth.basis = 'mol'\n",
        "\n",
        "        # commenting out the next codes for now\n",
        "\n",
        "        #if all([i in self.chemicals for i in ('FFA', 'DAG', 'TAG', 'Glycerol')]):\n",
        "            #self.lipid_reaction = self.oil_reaction = ParallelReaction([\n",
        "                #Reaction('TAG + 3Water -> 3FFA + Glycerol', 'TAG', 0.23, chemicals),\n",
        "                #Reaction('TAG + Water -> FFA + DAG', 'TAG', 0.02, chemicals)\n",
        "            #])\n",
        "        #else:\n",
        "            #self.lipid_reaction = None\n",
        "        #self.efficiency = efficiency"
      ],
      "metadata": {
        "id": "nD7KlqbjxYWn"
      },
      "execution_count": null,
      "outputs": []
    },
    {
      "cell_type": "code",
      "source": [
        "    def _calc_efficiency(self, feed, tau): # pragma: no cover\n",
        "        # Get initial concentrations\n",
        "        y, e, s, w = feed.indices(['Yeast',\n",
        "                                   '146-48-5', # yohimbine\n",
        "                                   '492-61-5',\n",
        "                                   '7732-18-5'])\n",
        "        mass = feed.mass\n",
        "        F_vol = feed.F_vol\n",
        "        z0 = [1, 100, 0, 0.001, 50]  # initial conditions for X, S, P, O2l, V"
      ],
      "metadata": {
        "id": "vSr-VRCspn-i"
      },
      "execution_count": null,
      "outputs": []
    },
    {
      "cell_type": "code",
      "source": [
        "        # the fed match model should be incorporated in here\n",
        "        \n",
        "        def F(t):\n",
        "          return 0.1\n",
        "\n",
        "        def model(z, t):\n",
        "          [X, S, P, O2l, V] = z\n",
        "\n",
        "          # compute coefficients\n",
        "          mu = ((mu_max * S) / (ks + S)) * (O2l / (ko2 + O2l))\n",
        "          \n",
        "\n",
        "          qs = mu / yxs\n",
        "\n",
        "          rX = ((mu - kd) * X)\n",
        "          rS = (qs + m) * X\n",
        "          rO2 = (yo2 * rS) + (kla * ((O2g / h2) - O2l))\n",
        "\n",
        "          # the differential equations corresponding to mass balances\n",
        "\n",
        "          dVdt = F(t)\n",
        "\n",
        "          dXdt = rX - ((X * F(t)) / V)\n",
        "\n",
        "          dSdt = ((F(t) / V) * (sf - S)) - rS\n",
        "\n",
        "          dPdt = ((-F(t) *P) / V) + (ypx * mu * X)\n",
        "\n",
        "          dOdt = ((F(t) / V) * O2l) + rO2\n",
        "          \n",
        "          return (dXdt, dSdt, dPdt, dOdt, dVdt)\n",
        "\n",
        "       \n",
        "        t = np.linspace(0, 50, 1000)\n",
        "        sol = odeint(model, z0, t)\n",
        "        X, S, P, O2l, V = sol.transpose()\n",
        "\n",
        "        fig, ax1 = plt.subplots()\n",
        "\n",
        "        ax2 = ax1.twinx()\n",
        "        ax1.plot(t, X, 'g-')\n",
        "        ax1.plot(t, S,'-')\n",
        "        ax1.plot(t, P,'r-')\n",
        "        ax1.plot(t, O2l,'y-')\n",
        "        ax1.legend(['Cell Conc.',\n",
        "                    'Substrate Conc.',\n",
        "                    'Product Conc.',\n",
        "                    'Oxygen Conc'])\n",
        "        ax2.plot(t, V, 'b')\n",
        "        ax2.legend(['Vol'])\n",
        "\n",
        "        plt.title('Fed batch model')\n",
        "        ax1.set_xlabel('Time [hrs]')\n",
        "        ax1.set_ylabel('Concentration [g/liter]', color='g')\n",
        "        ax2.set_ylabel('Vol [m3]', color='b')"
      ],
      "metadata": {
        "id": "NKkpQrAys90N"
      },
      "execution_count": null,
      "outputs": []
    },
    {
      "cell_type": "code",
      "source": [
        "@property\n",
        "    def efficiency(self):\n",
        "        return self.fermentation_reaction.X\n",
        "    @efficiency.setter\n",
        "    def efficiency(self, efficiency):\n",
        "        self.fermentation_reaction.X = efficiency"
      ],
      "metadata": {
        "id": "5lTi5IChorSm"
      },
      "execution_count": null,
      "outputs": []
    }
  ]
}